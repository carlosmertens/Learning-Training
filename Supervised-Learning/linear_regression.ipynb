{
 "cells": [
  {
   "cell_type": "markdown",
   "metadata": {},
   "source": [
    "# Linear Regression"
   ]
  },
  {
   "cell_type": "markdown",
   "metadata": {},
   "source": [
    "### Two-Dimensional Problem\n",
    "\n",
    "In this example, we'll be working with data on the average life expectancy at birth and the average BMI for males across the world. The data comes from Gapminder.\n",
    "\n",
    "The data file can be found under the \"bmi_and_life_expectancy.csv\". It includes three columns, containing the following data:\n",
    "\n",
    "    - Country – The country the person was born in.\n",
    "    - Life expectancy – The average life expectancy at birth for a person in that country.\n",
    "    - BMI – The mean BMI of males in that country.\n",
    "    \n",
    "#### You'll need to complete each of the following steps:\n",
    "\n",
    "1. Load the data\n",
    "\n",
    "The data is in the file called \"bmi_and_life_expectancy.csv\".\n",
    "Use pandas read_csv to load the data into a dataframe\n",
    "Assign the dataframe to the variable bmi_life_data.\n",
    "\n",
    "2. Build a linear regression model\n",
    "\n",
    "Create a regression model using scikit-learn's LinearRegression and assign it to bmi_life_model.\n",
    "Fit the model to the data.\n",
    "\n",
    "3. Predict using the model\n",
    "\n",
    "Predict using a BMI of 21.07931 and assign it to the variable laos_life_exp.\n",
    "\n",
    "#### Note: \n",
    "\n",
    "Here, BMI is the predictor, also known as an independent variable. A predictor is a variable you're looking at in order to make predictions about other variables, while the values you are trying to predict are known as dependent variables. In this case, life expectancy is the dependent variable."
   ]
  },
  {
   "cell_type": "code",
   "execution_count": 8,
   "metadata": {},
   "outputs": [
    {
     "name": "stdout",
     "output_type": "stream",
     "text": [
      "Laos life expectancy in relation to thier BMI is: [[60.31564716]]\n"
     ]
    }
   ],
   "source": [
    "# Imports\n",
    "import pandas as pd\n",
    "from sklearn.linear_model import LinearRegression\n",
    "\n",
    "# Load the data\n",
    "bmi_life_data = pd.read_csv('bmi_and_life_expectancy.csv')\n",
    "X = bmi_life_data[['BMI']]\n",
    "y = bmi_life_data[['Life expectancy']]\n",
    "\n",
    "# Create and fit the linear regression model\n",
    "bmi_life_model = LinearRegression()\n",
    "bmi_life_model.fit(X, y)\n",
    "\n",
    "# Predict life expectancy for a BMI value of 21.07931\n",
    "laos_life_exp = bmi_life_model.predict(21.07931)\n",
    "\n",
    "# Print prediction\n",
    "print(\"Laos life expectancy in relation to thier BMI is:\", laos_life_exp)"
   ]
  },
  {
   "cell_type": "markdown",
   "metadata": {},
   "source": [
    "### N-Dimensional Problem\n",
    "\n",
    "In this example, we'll be using the Boston house-prices dataset. The dataset consists of 13 features of 506 houses and the median home value in USD 1000's. You'll fit a model on the 13 features to predict the value of the houses.\n",
    "\n",
    "We'll need to complete each of the following steps:\n",
    "\n",
    "1. Build a linear regression model\n",
    "\n",
    "Create a regression model using scikit-learn's LinearRegression and assign it to model.\n",
    "Fit the model to the data.\n",
    "\n",
    "2. Predict using the model\n",
    "\n",
    "Predict the value of sample_house."
   ]
  },
  {
   "cell_type": "code",
   "execution_count": 2,
   "metadata": {},
   "outputs": [
    {
     "name": "stdout",
     "output_type": "stream",
     "text": [
      "[23.68420569]\n"
     ]
    }
   ],
   "source": [
    "# Imports\n",
    "from sklearn.linear_model import LinearRegression\n",
    "from sklearn.datasets import load_boston\n",
    "\n",
    "# Load the data from the boston house-prices dataset \n",
    "boston_data = load_boston()\n",
    "X = boston_data['data']\n",
    "y = boston_data['target']\n",
    "\n",
    "# Create and fit the linear regression model\n",
    "boston_housing_model = LinearRegression()\n",
    "boston_housing_model.fit(X, y)\n",
    "\n",
    "# Make a prediction using the model\n",
    "sample_house = [[2.29690000e-01, 0.00000000e+00, 1.05900000e+01, 0.00000000e+00, 4.89000000e-01,\n",
    "                6.32600000e+00, 5.25000000e+01, 4.35490000e+00, 4.00000000e+00, 2.77000000e+02,\n",
    "                1.86000000e+01, 3.94870000e+02, 1.09700000e+01]]\n",
    "\n",
    "# Predict housing price for the sample_house\n",
    "prediction = boston_housing_model.predict(sample_house)\n",
    "\n",
    "# Print prediction\n",
    "print(prediction)"
   ]
  },
  {
   "cell_type": "code",
   "execution_count": null,
   "metadata": {},
   "outputs": [],
   "source": []
  }
 ],
 "metadata": {
  "kernelspec": {
   "display_name": "Python 3",
   "language": "python",
   "name": "python3"
  },
  "language_info": {
   "codemirror_mode": {
    "name": "ipython",
    "version": 3
   },
   "file_extension": ".py",
   "mimetype": "text/x-python",
   "name": "python",
   "nbconvert_exporter": "python",
   "pygments_lexer": "ipython3",
   "version": "3.6.6"
  }
 },
 "nbformat": 4,
 "nbformat_minor": 2
}
