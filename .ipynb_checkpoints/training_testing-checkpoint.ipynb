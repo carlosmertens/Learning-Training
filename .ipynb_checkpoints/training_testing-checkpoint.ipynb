{
 "cells": [
  {
   "cell_type": "markdown",
   "metadata": {},
   "source": [
    "# MODEL EVALUATION AND VALIDATION\n",
    "\n",
    "    * We use 3 different data samples\n",
    "    * We load the data with Panda\n",
    "    * We prepare the samples to Numpy Array in order to apply\n",
    "      the classifiers in Scikit Learn (sklearn)\n",
    "    * We train Models using some algorithms with scikit:\n",
    "        * Logistic Regression\n",
    "        * Neural Networks\n",
    "        * Decision Tree\n",
    "        * Support Vector Machines\n",
    "    * We test different Evaluation Metrics\n"
   ]
  },
  {
   "cell_type": "markdown",
   "metadata": {},
   "source": [
    "### Imports"
   ]
  },
  {
   "cell_type": "code",
   "execution_count": 1,
   "metadata": {},
   "outputs": [],
   "source": [
    "# Imports for the handling of data\n",
    "import pandas as pd\n",
    "import numpy as np\n",
    "import matplotlib.pyplot as plt\n",
    "%matplotlib inline\n",
    "\n",
    "# import for the classification algorithms\n",
    "from sklearn.linear_model import LogisticRegression\n",
    "from sklearn.neural_network import MLPClassifier\n",
    "from sklearn.tree import DecisionTreeClassifier\n",
    "from sklearn.svm import SVC\n",
    "\n",
    "# Import for testing models \n",
    "from sklearn.metrics import accuracy_score\n",
    "from sklearn.model_selection import train_test_split\n",
    "\n",
    "# Imports for Regression Metrics Evaluation\n",
    "from sklearn.metrics import mean_absolute_error\n",
    "from sklearn.metrics import mean_squared_error\n",
    "from sklearn.metrics import r2_score"
   ]
  },
  {
   "cell_type": "markdown",
   "metadata": {},
   "source": [
    "### Usuful Functions\n",
    "* To be moved to a separated script and use imports to call them"
   ]
  },
  {
   "cell_type": "code",
   "execution_count": 40,
   "metadata": {},
   "outputs": [],
   "source": [
    "# Function to plot the datasets\n",
    "\n",
    "\n",
    "def plot_data(X, y):\n",
    "    \"\"\" Plot the graph plane to display the data.\"\"\"\n",
    "\n",
    "    plt.scatter(X[np.argwhere(y==0).flatten(),0], X[np.argwhere(y==0).flatten(),1],s = 50,\n",
    "                color = 'blue', edgecolor = 'k')\n",
    "    plt.scatter(X[np.argwhere(y==1).flatten(),0], X[np.argwhere(y==1).flatten(),1],s = 50,\n",
    "                color = 'red', edgecolor = 'k')\n",
    "    \n",
    "    plt.xlim(np.min(X)-0.2,np.max(X)+0.2)\n",
    "    plt.ylim(np.min(X)-0.2,np.max(X)+0.2)\n",
    "    plt.grid(False)\n",
    "    plt.tick_params(\n",
    "        axis='x',\n",
    "        which='both',\n",
    "        bottom='off',\n",
    "        top='off')"
   ]
  },
  {
   "cell_type": "markdown",
   "metadata": {},
   "source": [
    "# Sample 1"
   ]
  },
  {
   "cell_type": "markdown",
   "metadata": {},
   "source": [
    "### Load Data"
   ]
  },
  {
   "cell_type": "code",
   "execution_count": 3,
   "metadata": {},
   "outputs": [
    {
     "data": {
      "text/html": [
       "<div>\n",
       "<style scoped>\n",
       "    .dataframe tbody tr th:only-of-type {\n",
       "        vertical-align: middle;\n",
       "    }\n",
       "\n",
       "    .dataframe tbody tr th {\n",
       "        vertical-align: top;\n",
       "    }\n",
       "\n",
       "    .dataframe thead th {\n",
       "        text-align: right;\n",
       "    }\n",
       "</style>\n",
       "<table border=\"1\" class=\"dataframe\">\n",
       "  <thead>\n",
       "    <tr style=\"text-align: right;\">\n",
       "      <th></th>\n",
       "      <th>x1</th>\n",
       "      <th>x2</th>\n",
       "      <th>y</th>\n",
       "    </tr>\n",
       "  </thead>\n",
       "  <tbody>\n",
       "    <tr>\n",
       "      <th>0</th>\n",
       "      <td>0.78051</td>\n",
       "      <td>-0.063669</td>\n",
       "      <td>0</td>\n",
       "    </tr>\n",
       "    <tr>\n",
       "      <th>1</th>\n",
       "      <td>0.28774</td>\n",
       "      <td>0.291390</td>\n",
       "      <td>0</td>\n",
       "    </tr>\n",
       "    <tr>\n",
       "      <th>2</th>\n",
       "      <td>0.40714</td>\n",
       "      <td>0.178780</td>\n",
       "      <td>0</td>\n",
       "    </tr>\n",
       "    <tr>\n",
       "      <th>3</th>\n",
       "      <td>0.29230</td>\n",
       "      <td>0.421700</td>\n",
       "      <td>0</td>\n",
       "    </tr>\n",
       "    <tr>\n",
       "      <th>4</th>\n",
       "      <td>0.50922</td>\n",
       "      <td>0.352560</td>\n",
       "      <td>0</td>\n",
       "    </tr>\n",
       "  </tbody>\n",
       "</table>\n",
       "</div>"
      ],
      "text/plain": [
       "        x1        x2  y\n",
       "0  0.78051 -0.063669  0\n",
       "1  0.28774  0.291390  0\n",
       "2  0.40714  0.178780  0\n",
       "3  0.29230  0.421700  0\n",
       "4  0.50922  0.352560  0"
      ]
     },
     "execution_count": 3,
     "metadata": {},
     "output_type": "execute_result"
    }
   ],
   "source": [
    "# Load data with Panda and analize it\n",
    "# Use dataset '2_class_data.csv'\n",
    "sample_1 = pd.read_csv(\"2_class_data.csv\")\n",
    "\n",
    "# Display the first 5 rows\n",
    "sample_1.head()"
   ]
  },
  {
   "cell_type": "code",
   "execution_count": 4,
   "metadata": {},
   "outputs": [],
   "source": [
    "# Separate the features and the labels into arrays X_1 and y_1\n",
    "X_1 = np.array(sample_1[['x1', 'x2']])\n",
    "y_1 = np.array(sample_1['y'])"
   ]
  },
  {
   "cell_type": "code",
   "execution_count": 41,
   "metadata": {},
   "outputs": [
    {
     "name": "stderr",
     "output_type": "stream",
     "text": [
      "/Users/cmertens/anaconda3/lib/python3.6/site-packages/matplotlib/cbook/deprecation.py:107: MatplotlibDeprecationWarning: Passing one of 'on', 'true', 'off', 'false' as a boolean is deprecated; use an actual boolean (True/False) instead.\n",
      "  warnings.warn(message, mplDeprecation, stacklevel=1)\n"
     ]
    },
    {
     "data": {
      "image/png": "[encoded data removed]",
      "text/plain": [
       "<Figure size 432x288 with 1 Axes>"
      ]
     },
     "metadata": {},
     "output_type": "display_data"
    }
   ],
   "source": [
    "# Call function to plot the data\n",
    "plot_data(X_1, y_1)\n",
    "\n",
    "# Display the data\n",
    "plt.show()"
   ]
  },
  {
   "cell_type": "markdown",
   "metadata": {},
   "source": [
    "## Golden Rule: Thou shalt never use your testing data for training"
   ]
  },
  {
   "cell_type": "code",
   "execution_count": 6,
   "metadata": {},
   "outputs": [],
   "source": [
    "# Split data for trining and testing\n",
    "# Use a test size of 25% and a random state of 42 (standard)\n",
    "X_train_1, X_test_1, y_train_1, y_test_1 = train_test_split(X_1, y_1, test_size=0.25, random_state=42)"
   ]
  },
  {
   "cell_type": "markdown",
   "metadata": {},
   "source": [
    "# Models"
   ]
  },
  {
   "cell_type": "markdown",
   "metadata": {},
   "source": [
    "## Logistic Regression Model"
   ]
  },
  {
   "cell_type": "markdown",
   "metadata": {},
   "source": [
    "#### Training model"
   ]
  },
  {
   "cell_type": "code",
   "execution_count": 7,
   "metadata": {},
   "outputs": [
    {
     "data": {
      "text/plain": [
       "LogisticRegression(C=1.0, class_weight=None, dual=False, fit_intercept=True,\n",
       "          intercept_scaling=1, max_iter=100, multi_class='ovr', n_jobs=1,\n",
       "          penalty='l2', random_state=None, solver='liblinear', tol=0.0001,\n",
       "          verbose=0, warm_start=False)"
      ]
     },
     "execution_count": 7,
     "metadata": {},
     "output_type": "execute_result"
    }
   ],
   "source": [
    "# Initiate classifier and feed the features and labels\n",
    "model_1 = LogisticRegression()\n",
    "model_1.fit(X_train_1, y_train_1)"
   ]
  },
  {
   "cell_type": "markdown",
   "metadata": {},
   "source": [
    "#### Testing model"
   ]
  },
  {
   "cell_type": "code",
   "execution_count": 8,
   "metadata": {},
   "outputs": [],
   "source": [
    "# Make predictions on the Test Data\n",
    "y_pred_1 = model_1.predict(X_test_1)"
   ]
  },
  {
   "cell_type": "markdown",
   "metadata": {},
   "source": [
    "#### Evaluating Model"
   ]
  },
  {
   "cell_type": "code",
   "execution_count": 9,
   "metadata": {},
   "outputs": [
    {
     "name": "stdout",
     "output_type": "stream",
     "text": [
      "** Accuracy for the Logistic Regression Model: 84.0%\n",
      "\n",
      "** The Mean Absolute Error is: 0.16\n",
      "\n",
      "** The Mean Squared Error is: 0.16\n",
      "\n",
      "** The R2 Score is: 0.35064935064935077\n"
     ]
    }
   ],
   "source": [
    "# Calculate the accuracy on the Test Data\n",
    "acc = accuracy_score(y_test_1, y_pred_1)\n",
    "print(\"** Accuracy for the Logistic Regression Model: {}%\".format(acc*100))\n",
    "\n",
    "# Calculate some Regression Metrics to further evaluate Model\n",
    "\n",
    "# Mean Absolute Error\n",
    "error = mean_absolute_error(y_test_1, y_pred_1)\n",
    "print(\"\\n** The Mean Absolute Error is:\", error)\n",
    "\n",
    "# Mean Squared Error\n",
    "error = mean_squared_error(y_test_1, y_pred_1)\n",
    "print(\"\\n** The Mean Squared Error is:\", error)\n",
    "\n",
    "# R2 Score\n",
    "# The closer to one, the better the model\n",
    "error = r2_score(y_test_1, y_pred_1)\n",
    "print(\"\\n** The R2 Score is:\", error)"
   ]
  },
  {
   "cell_type": "markdown",
   "metadata": {},
   "source": [
    "## Neural Networks Model"
   ]
  },
  {
   "cell_type": "markdown",
   "metadata": {},
   "source": [
    "#### Training model"
   ]
  },
  {
   "cell_type": "code",
   "execution_count": 10,
   "metadata": {},
   "outputs": [
    {
     "name": "stderr",
     "output_type": "stream",
     "text": [
      "/Users/cmertens/anaconda3/lib/python3.6/site-packages/sklearn/neural_network/multilayer_perceptron.py:564: ConvergenceWarning: Stochastic Optimizer: Maximum iterations (200) reached and the optimization hasn't converged yet.\n",
      "  % self.max_iter, ConvergenceWarning)\n"
     ]
    },
    {
     "data": {
      "text/plain": [
       "MLPClassifier(activation='relu', alpha=0.0001, batch_size='auto', beta_1=0.9,\n",
       "       beta_2=0.999, early_stopping=False, epsilon=1e-08,\n",
       "       hidden_layer_sizes=(100,), learning_rate='constant',\n",
       "       learning_rate_init=0.001, max_iter=200, momentum=0.9,\n",
       "       nesterovs_momentum=True, power_t=0.5, random_state=None,\n",
       "       shuffle=True, solver='adam', tol=0.0001, validation_fraction=0.1,\n",
       "       verbose=False, warm_start=False)"
      ]
     },
     "execution_count": 10,
     "metadata": {},
     "output_type": "execute_result"
    }
   ],
   "source": [
    "# Initiate classifier and feed the features and labels\n",
    "model_1 = MLPClassifier()\n",
    "model_1.fit(X_train_1, y_train_1)"
   ]
  },
  {
   "cell_type": "markdown",
   "metadata": {},
   "source": [
    "#### Testing model"
   ]
  },
  {
   "cell_type": "code",
   "execution_count": 11,
   "metadata": {},
   "outputs": [],
   "source": [
    "# Make predictions on the Test Data\n",
    "y_pred_1 = model_1.predict(X_test_1)"
   ]
  },
  {
   "cell_type": "markdown",
   "metadata": {},
   "source": [
    "#### Evaluating Model"
   ]
  },
  {
   "cell_type": "code",
   "execution_count": 12,
   "metadata": {},
   "outputs": [
    {
     "name": "stdout",
     "output_type": "stream",
     "text": [
      "** Accuracy for the Logistic Regression Model: 88.0%\n",
      "\n",
      "** The Mean Absolute Error is: 0.12\n",
      "\n",
      "** The Mean Squared Error is: 0.12\n",
      "\n",
      "** The R2 Score is: 0.5129870129870131\n"
     ]
    }
   ],
   "source": [
    "# Calculate the accuracy on the Test Data\n",
    "acc = accuracy_score(y_test_1, y_pred_1)\n",
    "print(\"** Accuracy for the Logistic Regression Model: {}%\".format(acc*100))\n",
    "\n",
    "# Calculate some Regression Metrics to further evaluate Model\n",
    "\n",
    "# Mean Absolute Error\n",
    "error = mean_absolute_error(y_test_1, y_pred_1)\n",
    "print(\"\\n** The Mean Absolute Error is:\", error)\n",
    "\n",
    "# Mean Squared Error\n",
    "error = mean_squared_error(y_test_1, y_pred_1)\n",
    "print(\"\\n** The Mean Squared Error is:\", error)\n",
    "\n",
    "# R2 Score\n",
    "# The closer to one, the better the model\n",
    "error = r2_score(y_test_1, y_pred_1)\n",
    "print(\"\\n** The R2 Score is:\", error)"
   ]
  },
  {
   "cell_type": "markdown",
   "metadata": {},
   "source": [
    "## Decision Tree Model"
   ]
  },
  {
   "cell_type": "markdown",
   "metadata": {},
   "source": [
    "#### Training model"
   ]
  },
  {
   "cell_type": "code",
   "execution_count": 13,
   "metadata": {},
   "outputs": [
    {
     "data": {
      "text/plain": [
       "DecisionTreeClassifier(class_weight=None, criterion='gini', max_depth=None,\n",
       "            max_features=None, max_leaf_nodes=None,\n",
       "            min_impurity_decrease=0.0, min_impurity_split=None,\n",
       "            min_samples_leaf=1, min_samples_split=2,\n",
       "            min_weight_fraction_leaf=0.0, presort=False, random_state=None,\n",
       "            splitter='best')"
      ]
     },
     "execution_count": 13,
     "metadata": {},
     "output_type": "execute_result"
    }
   ],
   "source": [
    "# Initiate classifier and feed the features and labels\n",
    "model_1 = DecisionTreeClassifier()\n",
    "model_1.fit(X_train_1, y_train_1)"
   ]
  },
  {
   "cell_type": "markdown",
   "metadata": {},
   "source": [
    "#### Testing Model"
   ]
  },
  {
   "cell_type": "code",
   "execution_count": 14,
   "metadata": {},
   "outputs": [],
   "source": [
    "# Make predictions on the Test Data\n",
    "y_pred_1 = model_1.predict(X_test_1)"
   ]
  },
  {
   "cell_type": "markdown",
   "metadata": {},
   "source": [
    "#### Evaluating Model"
   ]
  },
  {
   "cell_type": "code",
   "execution_count": 15,
   "metadata": {},
   "outputs": [
    {
     "name": "stdout",
     "output_type": "stream",
     "text": [
      "** Accuracy for the Logistic Regression Model: 64.0%\n",
      "\n",
      "** The Mean Absolute Error is: 0.36\n",
      "\n",
      "** The Mean Squared Error is: 0.36\n",
      "\n",
      "** The R2 Score is: -0.4610389610389607\n"
     ]
    }
   ],
   "source": [
    "# Calculate the accuracy on the Test Data\n",
    "acc = accuracy_score(y_test_1, y_pred_1)\n",
    "print(\"** Accuracy for the Logistic Regression Model: {}%\".format(acc*100))\n",
    "\n",
    "# Calculate some Regression Metrics to further evaluate Model\n",
    "\n",
    "# Mean Absolute Error\n",
    "error = mean_absolute_error(y_test_1, y_pred_1)\n",
    "print(\"\\n** The Mean Absolute Error is:\", error)\n",
    "\n",
    "# Mean Squared Error\n",
    "error = mean_squared_error(y_test_1, y_pred_1)\n",
    "print(\"\\n** The Mean Squared Error is:\", error)\n",
    "\n",
    "# R2 Score\n",
    "# The closer to one, the better the model\n",
    "error = r2_score(y_test_1, y_pred_1)\n",
    "print(\"\\n** The R2 Score is:\", error)"
   ]
  },
  {
   "cell_type": "markdown",
   "metadata": {},
   "source": [
    "## Support Vector Machines"
   ]
  },
  {
   "cell_type": "markdown",
   "metadata": {},
   "source": [
    "#### Training model"
   ]
  },
  {
   "cell_type": "code",
   "execution_count": 16,
   "metadata": {},
   "outputs": [
    {
     "data": {
      "text/plain": [
       "SVC(C=1.0, cache_size=200, class_weight=None, coef0=0.0,\n",
       "  decision_function_shape='ovr', degree=3, gamma=2, kernel='poly',\n",
       "  max_iter=-1, probability=False, random_state=None, shrinking=True,\n",
       "  tol=0.001, verbose=False)"
      ]
     },
     "execution_count": 16,
     "metadata": {},
     "output_type": "execute_result"
    }
   ],
   "source": [
    "# Initiate classifier and feed the features and labels\n",
    "# Use parameters in the SVC classifier\n",
    "# Try (kernel = 'rbf', gamma = 200) or (kernel = 'poly', gamma = 2)\n",
    "model_1 = SVC(kernel = 'poly', gamma = 2)\n",
    "model_1.fit(X_train_1, y_train_1)"
   ]
  },
  {
   "cell_type": "markdown",
   "metadata": {},
   "source": [
    "#### Testing Model"
   ]
  },
  {
   "cell_type": "code",
   "execution_count": 17,
   "metadata": {},
   "outputs": [],
   "source": [
    "# Make predictions on the Test Data\n",
    "y_pred_1 = model_1.predict(X_test_1)"
   ]
  },
  {
   "cell_type": "markdown",
   "metadata": {},
   "source": [
    "#### Evaluating Model"
   ]
  },
  {
   "cell_type": "code",
   "execution_count": 18,
   "metadata": {},
   "outputs": [
    {
     "name": "stdout",
     "output_type": "stream",
     "text": [
      "** Accuracy for the Logistic Regression Model: 92.0%\n",
      "\n",
      "** The Mean Absolute Error is: 0.08\n",
      "\n",
      "** The Mean Squared Error is: 0.08\n",
      "\n",
      "** The R2 Score is: 0.6753246753246753\n"
     ]
    }
   ],
   "source": [
    "# Calculate the accuracy on the Test Data\n",
    "acc = accuracy_score(y_test_1, y_pred_1)\n",
    "print(\"** Accuracy for the Logistic Regression Model: {}%\".format(acc*100))\n",
    "\n",
    "# Calculate some Regression Metrics to further evaluate Model\n",
    "\n",
    "# Mean Absolute Error\n",
    "error = mean_absolute_error(y_test_1, y_pred_1)\n",
    "print(\"\\n** The Mean Absolute Error is:\", error)\n",
    "\n",
    "# Mean Squared Error\n",
    "error = mean_squared_error(y_test_1, y_pred_1)\n",
    "print(\"\\n** The Mean Squared Error is:\", error)\n",
    "\n",
    "# R2 Score\n",
    "# The closer to one, the better the model\n",
    "error = r2_score(y_test_1, y_pred_1)\n",
    "print(\"\\n** The R2 Score is:\", error)"
   ]
  },
  {
   "cell_type": "markdown",
   "metadata": {},
   "source": [
    "# Sample 2"
   ]
  },
  {
   "cell_type": "code",
   "execution_count": 19,
   "metadata": {},
   "outputs": [
    {
     "data": {
      "text/html": [
       "<div>\n",
       "<style scoped>\n",
       "    .dataframe tbody tr th:only-of-type {\n",
       "        vertical-align: middle;\n",
       "    }\n",
       "\n",
       "    .dataframe tbody tr th {\n",
       "        vertical-align: top;\n",
       "    }\n",
       "\n",
       "    .dataframe thead th {\n",
       "        text-align: right;\n",
       "    }\n",
       "</style>\n",
       "<table border=\"1\" class=\"dataframe\">\n",
       "  <thead>\n",
       "    <tr style=\"text-align: right;\">\n",
       "      <th></th>\n",
       "      <th>x1</th>\n",
       "      <th>x2</th>\n",
       "      <th>y</th>\n",
       "    </tr>\n",
       "  </thead>\n",
       "  <tbody>\n",
       "    <tr>\n",
       "      <th>0</th>\n",
       "      <td>0.336494</td>\n",
       "      <td>-0.985951</td>\n",
       "      <td>0.0</td>\n",
       "    </tr>\n",
       "    <tr>\n",
       "      <th>1</th>\n",
       "      <td>-0.011043</td>\n",
       "      <td>-0.105529</td>\n",
       "      <td>1.0</td>\n",
       "    </tr>\n",
       "    <tr>\n",
       "      <th>2</th>\n",
       "      <td>0.238160</td>\n",
       "      <td>-0.617417</td>\n",
       "      <td>1.0</td>\n",
       "    </tr>\n",
       "    <tr>\n",
       "      <th>3</th>\n",
       "      <td>-0.366783</td>\n",
       "      <td>-0.713819</td>\n",
       "      <td>1.0</td>\n",
       "    </tr>\n",
       "    <tr>\n",
       "      <th>4</th>\n",
       "      <td>1.221923</td>\n",
       "      <td>-1.039399</td>\n",
       "      <td>0.0</td>\n",
       "    </tr>\n",
       "  </tbody>\n",
       "</table>\n",
       "</div>"
      ],
      "text/plain": [
       "         x1        x2    y\n",
       "0  0.336494 -0.985951  0.0\n",
       "1 -0.011043 -0.105529  1.0\n",
       "2  0.238160 -0.617417  1.0\n",
       "3 -0.366783 -0.713819  1.0\n",
       "4  1.221923 -1.039399  0.0"
      ]
     },
     "execution_count": 19,
     "metadata": {},
     "output_type": "execute_result"
    }
   ],
   "source": [
    "# Load data with Panda and analize it\n",
    "# Use dataset '2_class_data.csv'\n",
    "sample_2 = pd.read_csv(\"data1.csv\")\n",
    "\n",
    "# Display the first 5 rows\n",
    "sample_2.head()"
   ]
  },
  {
   "cell_type": "code",
   "execution_count": 20,
   "metadata": {},
   "outputs": [],
   "source": [
    "# Separate the features and the labels into arrays X_1 and y_1\n",
    "X_2 = np.array(sample_2[['x1', 'x2']])\n",
    "y_2 = np.array(sample_2['y'])"
   ]
  },
  {
   "cell_type": "code",
   "execution_count": 21,
   "metadata": {},
   "outputs": [
    {
     "data": {
      "text/plain": [
       "-1.8888751747099999"
      ]
     },
     "execution_count": 21,
     "metadata": {},
     "output_type": "execute_result"
    }
   ],
   "source": [
    "np.min(X_2)"
   ]
  },
  {
   "cell_type": "code",
   "execution_count": 42,
   "metadata": {},
   "outputs": [
    {
     "name": "stderr",
     "output_type": "stream",
     "text": [
      "/Users/cmertens/anaconda3/lib/python3.6/site-packages/matplotlib/cbook/deprecation.py:107: MatplotlibDeprecationWarning: Passing one of 'on', 'true', 'off', 'false' as a boolean is deprecated; use an actual boolean (True/False) instead.\n",
      "  warnings.warn(message, mplDeprecation, stacklevel=1)\n"
     ]
    },
    {
     "data": {
      "image/png": "[encoded data removed]",
      "text/plain": [
       "<Figure size 432x288 with 1 Axes>"
      ]
     },
     "metadata": {},
     "output_type": "display_data"
    }
   ],
   "source": [
    "# Call function to view the datapoints\n",
    "plot_data(X_2, y_2)\n",
    "\n",
    "# Display the data\n",
    "plt.show()"
   ]
  },
  {
   "cell_type": "code",
   "execution_count": 23,
   "metadata": {},
   "outputs": [],
   "source": [
    "# Split data for trining and testing\n",
    "# Use a test size of 30% and a random state of 42\n",
    "X_train_2, X_test_2, y_train_2, y_test_2 = train_test_split(X_2, y_2, test_size=0.3, random_state=42)"
   ]
  },
  {
   "cell_type": "markdown",
   "metadata": {},
   "source": [
    "### Logistic Regression Model"
   ]
  },
  {
   "cell_type": "code",
   "execution_count": 24,
   "metadata": {},
   "outputs": [
    {
     "name": "stdout",
     "output_type": "stream",
     "text": [
      "** Accuracy for the Logistic Regression Model: 56.666666666666664%\n",
      "\n",
      "** The Mean Absolute Error is: 0.43333333333333335\n",
      "\n",
      "** The Mean Squared Error is: 0.43333333333333335\n",
      "\n",
      "** The R2 Score is: -0.7410714285714284\n"
     ]
    }
   ],
   "source": [
    "# TRAINING\n",
    "\n",
    "# Initiate classifier and feed the features and labels\n",
    "model_2 = LogisticRegression()\n",
    "model_2.fit(X_train_2, y_train_2)\n",
    "\n",
    "# TESTING\n",
    "\n",
    "# Make predictions on the Test Data\n",
    "y_pred_2 = model_2.predict(X_test_2)\n",
    "\n",
    "# EVALUATING\n",
    "\n",
    "# Calculate the accuracy on the Test Data\n",
    "acc = accuracy_score(y_test_2, y_pred_2)\n",
    "\n",
    "# Calculate the accuracy on the Test Data\n",
    "acc = accuracy_score(y_test_2, y_pred_2)\n",
    "print(\"** Accuracy for the Logistic Regression Model: {}%\".format(acc*100))\n",
    "\n",
    "# Calculate some Regression Metrics to further evaluate Model\n",
    "\n",
    "# Mean Absolute Error\n",
    "error = mean_absolute_error(y_test_2, y_pred_2)\n",
    "print(\"\\n** The Mean Absolute Error is:\", error)\n",
    "\n",
    "# Mean Squared Error\n",
    "error = mean_squared_error(y_test_2, y_pred_2)\n",
    "print(\"\\n** The Mean Squared Error is:\", error)\n",
    "\n",
    "# R2 Score\n",
    "# The closer to one, the better the model\n",
    "error = r2_score(y_test_2, y_pred_2)\n",
    "print(\"\\n** The R2 Score is:\", error)"
   ]
  },
  {
   "cell_type": "markdown",
   "metadata": {},
   "source": [
    "### Neural Network Model"
   ]
  },
  {
   "cell_type": "code",
   "execution_count": 25,
   "metadata": {},
   "outputs": [
    {
     "name": "stdout",
     "output_type": "stream",
     "text": [
      "** Accuracy for the Neural Network Model: 96.66666666666667%\n",
      "\n",
      "** The Mean Absolute Error is: 0.03333333333333333\n",
      "\n",
      "** The Mean Squared Error is: 0.03333333333333333\n",
      "\n",
      "** The R2 Score is: 0.8660714285714286\n"
     ]
    },
    {
     "name": "stderr",
     "output_type": "stream",
     "text": [
      "/Users/cmertens/anaconda3/lib/python3.6/site-packages/sklearn/neural_network/multilayer_perceptron.py:564: ConvergenceWarning: Stochastic Optimizer: Maximum iterations (200) reached and the optimization hasn't converged yet.\n",
      "  % self.max_iter, ConvergenceWarning)\n"
     ]
    }
   ],
   "source": [
    "# TRAINING\n",
    "\n",
    "# Initiate classifier and feed the features and labels\n",
    "model_2 = MLPClassifier()\n",
    "model_2.fit(X_train_2, y_train_2)\n",
    "\n",
    "# TESTING\n",
    "\n",
    "# Make predictions on the Test Data\n",
    "y_pred_2 = model_2.predict(X_test_2)\n",
    "\n",
    "# EVALUATING\n",
    "\n",
    "# Calculate the accuracy on the Test Data\n",
    "acc = accuracy_score(y_test_2, y_pred_2)\n",
    "\n",
    "# Calculate the accuracy on the Test Data\n",
    "acc = accuracy_score(y_test_2, y_pred_2)\n",
    "print(\"** Accuracy for the Neural Network Model: {}%\".format(acc*100))\n",
    "\n",
    "# Calculate some Regression Metrics to further evaluate Model\n",
    "\n",
    "# Mean Absolute Error\n",
    "error = mean_absolute_error(y_test_2, y_pred_2)\n",
    "print(\"\\n** The Mean Absolute Error is:\", error)\n",
    "\n",
    "# Mean Squared Error\n",
    "error = mean_squared_error(y_test_2, y_pred_2)\n",
    "print(\"\\n** The Mean Squared Error is:\", error)\n",
    "\n",
    "# R2 Score\n",
    "# The closer to one, the better the model\n",
    "error = r2_score(y_test_2, y_pred_2)\n",
    "print(\"\\n** The R2 Score is:\", error)"
   ]
  },
  {
   "cell_type": "markdown",
   "metadata": {},
   "source": [
    "### Decision Tree Model"
   ]
  },
  {
   "cell_type": "code",
   "execution_count": 26,
   "metadata": {},
   "outputs": [
    {
     "name": "stdout",
     "output_type": "stream",
     "text": [
      "** Accuracy for the Decision Tree Model: 80.0%\n",
      "\n",
      "** The Mean Absolute Error is: 0.2\n",
      "\n",
      "** The Mean Squared Error is: 0.2\n",
      "\n",
      "** The R2 Score is: 0.1964285714285715\n"
     ]
    }
   ],
   "source": [
    "# TRAINING\n",
    "\n",
    "# Initiate classifier and feed the features and labels\n",
    "model_2 = DecisionTreeClassifier()\n",
    "model_2.fit(X_train_2, y_train_2)\n",
    "\n",
    "# TESTING\n",
    "\n",
    "# Make predictions on the Test Data\n",
    "y_pred_2 = model_2.predict(X_test_2)\n",
    "\n",
    "# EVALUATING\n",
    "\n",
    "# Calculate the accuracy on the Test Data\n",
    "acc = accuracy_score(y_test_2, y_pred_2)\n",
    "\n",
    "# Calculate the accuracy on the Test Data\n",
    "acc = accuracy_score(y_test_2, y_pred_2)\n",
    "print(\"** Accuracy for the Decision Tree Model: {}%\".format(acc*100))\n",
    "\n",
    "# Calculate some Regression Metrics to further evaluate Model\n",
    "\n",
    "# Mean Absolute Error\n",
    "error = mean_absolute_error(y_test_2, y_pred_2)\n",
    "print(\"\\n** The Mean Absolute Error is:\", error)\n",
    "\n",
    "# Mean Squared Error\n",
    "error = mean_squared_error(y_test_2, y_pred_2)\n",
    "print(\"\\n** The Mean Squared Error is:\", error)\n",
    "\n",
    "# R2 Score\n",
    "# The closer to one, the better the model\n",
    "error = r2_score(y_test_2, y_pred_2)\n",
    "print(\"\\n** The R2 Score is:\", error)"
   ]
  },
  {
   "cell_type": "markdown",
   "metadata": {},
   "source": [
    "### Support Vector Machine"
   ]
  },
  {
   "cell_type": "code",
   "execution_count": 27,
   "metadata": {},
   "outputs": [
    {
     "name": "stdout",
     "output_type": "stream",
     "text": [
      "** Accuracy for the Support Vector Machine Model: 96.66666666666667%\n",
      "\n",
      "** The Mean Absolute Error is: 0.03333333333333333\n",
      "\n",
      "** The Mean Squared Error is: 0.03333333333333333\n",
      "\n",
      "** The R2 Score is: 0.8660714285714286\n"
     ]
    }
   ],
   "source": [
    "# TRAINING\n",
    "\n",
    "# Initiate classifier and feed the features and labels\n",
    "# Try parameters in the SVC classifier\n",
    "# Try (kernel = 'rbf', gamma = 200) or (kernel = 'poly', gamma = 2) or None\n",
    "model_2 = SVC()\n",
    "model_2.fit(X_train_2, y_train_2)\n",
    "\n",
    "# TESTING\n",
    "\n",
    "# Make predictions on the Test Data\n",
    "y_pred_2 = model_2.predict(X_test_2)\n",
    "\n",
    "# EVALUATING\n",
    "\n",
    "# Calculate the accuracy on the Test Data\n",
    "acc = accuracy_score(y_test_2, y_pred_2)\n",
    "\n",
    "# Calculate the accuracy on the Test Data\n",
    "acc = accuracy_score(y_test_2, y_pred_2)\n",
    "print(\"** Accuracy for the Support Vector Machine Model: {}%\".format(acc*100))\n",
    "\n",
    "# Calculate some Regression Metrics to further evaluate Model\n",
    "\n",
    "# Mean Absolute Error\n",
    "error = mean_absolute_error(y_test_2, y_pred_2)\n",
    "print(\"\\n** The Mean Absolute Error is:\", error)\n",
    "\n",
    "# Mean Squared Error\n",
    "error = mean_squared_error(y_test_2, y_pred_2)\n",
    "print(\"\\n** The Mean Squared Error is:\", error)\n",
    "\n",
    "# R2 Score\n",
    "# The closer to one, the better the model\n",
    "error = r2_score(y_test_2, y_pred_2)\n",
    "print(\"\\n** The R2 Score is:\", error)"
   ]
  },
  {
   "cell_type": "markdown",
   "metadata": {},
   "source": [
    "# Sample 3"
   ]
  },
  {
   "cell_type": "code",
   "execution_count": 28,
   "metadata": {},
   "outputs": [
    {
     "data": {
      "text/html": [
       "<div>\n",
       "<style scoped>\n",
       "    .dataframe tbody tr th:only-of-type {\n",
       "        vertical-align: middle;\n",
       "    }\n",
       "\n",
       "    .dataframe tbody tr th {\n",
       "        vertical-align: top;\n",
       "    }\n",
       "\n",
       "    .dataframe thead th {\n",
       "        text-align: right;\n",
       "    }\n",
       "</style>\n",
       "<table border=\"1\" class=\"dataframe\">\n",
       "  <thead>\n",
       "    <tr style=\"text-align: right;\">\n",
       "      <th></th>\n",
       "      <th>x1</th>\n",
       "      <th>x2</th>\n",
       "      <th>y</th>\n",
       "    </tr>\n",
       "  </thead>\n",
       "  <tbody>\n",
       "    <tr>\n",
       "      <th>0</th>\n",
       "      <td>0.24539</td>\n",
       "      <td>0.81725</td>\n",
       "      <td>0</td>\n",
       "    </tr>\n",
       "    <tr>\n",
       "      <th>1</th>\n",
       "      <td>0.21774</td>\n",
       "      <td>0.76462</td>\n",
       "      <td>0</td>\n",
       "    </tr>\n",
       "    <tr>\n",
       "      <th>2</th>\n",
       "      <td>0.20161</td>\n",
       "      <td>0.69737</td>\n",
       "      <td>0</td>\n",
       "    </tr>\n",
       "    <tr>\n",
       "      <th>3</th>\n",
       "      <td>0.20161</td>\n",
       "      <td>0.58041</td>\n",
       "      <td>0</td>\n",
       "    </tr>\n",
       "    <tr>\n",
       "      <th>4</th>\n",
       "      <td>0.24770</td>\n",
       "      <td>0.49561</td>\n",
       "      <td>0</td>\n",
       "    </tr>\n",
       "  </tbody>\n",
       "</table>\n",
       "</div>"
      ],
      "text/plain": [
       "        x1       x2  y\n",
       "0  0.24539  0.81725  0\n",
       "1  0.21774  0.76462  0\n",
       "2  0.20161  0.69737  0\n",
       "3  0.20161  0.58041  0\n",
       "4  0.24770  0.49561  0"
      ]
     },
     "execution_count": 28,
     "metadata": {},
     "output_type": "execute_result"
    }
   ],
   "source": [
    "# Load data with Panda and analize it\n",
    "# Use dataset '2_class_data.csv'\n",
    "sample_3 = pd.read_csv(\"data2.csv\")\n",
    "\n",
    "# Display the first 5 rows\n",
    "sample_3.head()"
   ]
  },
  {
   "cell_type": "code",
   "execution_count": 29,
   "metadata": {},
   "outputs": [],
   "source": [
    "# Separate the features and the labels into arrays X_1 and y_1\n",
    "X_3 = np.array(sample_3[['x1', 'x2']])\n",
    "y_3 = np.array(sample_3['y'])"
   ]
  },
  {
   "cell_type": "code",
   "execution_count": 43,
   "metadata": {},
   "outputs": [
    {
     "name": "stderr",
     "output_type": "stream",
     "text": [
      "/Users/cmertens/anaconda3/lib/python3.6/site-packages/matplotlib/cbook/deprecation.py:107: MatplotlibDeprecationWarning: Passing one of 'on', 'true', 'off', 'false' as a boolean is deprecated; use an actual boolean (True/False) instead.\n",
      "  warnings.warn(message, mplDeprecation, stacklevel=1)\n"
     ]
    },
    {
     "data": {
      "image/png": "[encoded data removed]",
      "text/plain": [
       "<Figure size 432x288 with 1 Axes>"
      ]
     },
     "metadata": {},
     "output_type": "display_data"
    }
   ],
   "source": [
    "# Call function to view the datapoints\n",
    "plot_data(X_3, y_3)\n",
    "\n",
    "# Display the data\n",
    "plt.show()"
   ]
  },
  {
   "cell_type": "code",
   "execution_count": 31,
   "metadata": {},
   "outputs": [],
   "source": [
    "# Split data for trining and testing\n",
    "# Use a test size of 25% and a random state of 42\n",
    "X_train_3, X_test_3, y_train_3, y_test_3 = train_test_split(X_3, y_3, test_size=0.25, random_state=42)"
   ]
  },
  {
   "cell_type": "markdown",
   "metadata": {},
   "source": [
    "### Logistic Regression Model"
   ]
  },
  {
   "cell_type": "code",
   "execution_count": 32,
   "metadata": {},
   "outputs": [
    {
     "name": "stdout",
     "output_type": "stream",
     "text": [
      "** Accuracy for the Logistic Regression Model: 58.333333333333336%\n",
      "\n",
      "** The Mean Absolute Error is: 0.4166666666666667\n",
      "\n",
      "** The Mean Squared Error is: 0.4166666666666667\n",
      "\n",
      "** The R2 Score is: -0.7142857142857142\n"
     ]
    }
   ],
   "source": [
    "# TRAINING\n",
    "\n",
    "# Initiate classifier and feed the features and labels\n",
    "model_3 = LogisticRegression()\n",
    "model_3.fit(X_train_3, y_train_3)\n",
    "\n",
    "# TESTING\n",
    "\n",
    "# Make predictions on the Test Data\n",
    "y_pred_3 = model_3.predict(X_test_3)\n",
    "\n",
    "# EVALUATING\n",
    "\n",
    "# Calculate the accuracy on the Test Data\n",
    "acc = accuracy_score(y_test_3, y_pred_3)\n",
    "\n",
    "# Calculate the accuracy on the Test Data\n",
    "acc = accuracy_score(y_test_3, y_pred_3)\n",
    "print(\"** Accuracy for the Logistic Regression Model: {}%\".format(acc*100))\n",
    "\n",
    "# Calculate some Regression Metrics to further evaluate Model\n",
    "\n",
    "# Mean Absolute Error\n",
    "error = mean_absolute_error(y_test_3, y_pred_3)\n",
    "print(\"\\n** The Mean Absolute Error is:\", error)\n",
    "\n",
    "# Mean Squared Error\n",
    "error = mean_squared_error(y_test_3, y_pred_3)\n",
    "print(\"\\n** The Mean Squared Error is:\", error)\n",
    "\n",
    "# R2 Score\n",
    "# The closer to one, the better the model\n",
    "error = r2_score(y_test_3, y_pred_3)\n",
    "print(\"\\n** The R2 Score is:\", error)"
   ]
  },
  {
   "cell_type": "markdown",
   "metadata": {},
   "source": [
    "### Neural Network Model"
   ]
  },
  {
   "cell_type": "code",
   "execution_count": 33,
   "metadata": {},
   "outputs": [
    {
     "name": "stdout",
     "output_type": "stream",
     "text": [
      "** Accuracy for the Neural Network Model: 58.333333333333336%\n",
      "\n",
      "** The Mean Absolute Error is: 0.4166666666666667\n",
      "\n",
      "** The Mean Squared Error is: 0.4166666666666667\n",
      "\n",
      "** The R2 Score is: -0.7142857142857142\n"
     ]
    },
    {
     "name": "stderr",
     "output_type": "stream",
     "text": [
      "/Users/cmertens/anaconda3/lib/python3.6/site-packages/sklearn/neural_network/multilayer_perceptron.py:564: ConvergenceWarning: Stochastic Optimizer: Maximum iterations (200) reached and the optimization hasn't converged yet.\n",
      "  % self.max_iter, ConvergenceWarning)\n"
     ]
    }
   ],
   "source": [
    "# TRAINING\n",
    "\n",
    "# Initiate classifier and feed the features and labels\n",
    "model_3 = MLPClassifier()\n",
    "model_3.fit(X_train_3, y_train_3)\n",
    "\n",
    "# TESTING\n",
    "\n",
    "# Make predictions on the Test Data\n",
    "y_pred_3 = model_3.predict(X_test_3)\n",
    "\n",
    "# EVALUATING\n",
    "\n",
    "# Calculate the accuracy on the Test Data\n",
    "acc = accuracy_score(y_test_3, y_pred_3)\n",
    "\n",
    "# Calculate the accuracy on the Test Data\n",
    "acc = accuracy_score(y_test_3, y_pred_3)\n",
    "print(\"** Accuracy for the Neural Network Model: {}%\".format(acc*100))\n",
    "\n",
    "# Calculate some Regression Metrics to further evaluate Model\n",
    "\n",
    "# Mean Absolute Error\n",
    "error = mean_absolute_error(y_test_3, y_pred_3)\n",
    "print(\"\\n** The Mean Absolute Error is:\", error)\n",
    "\n",
    "# Mean Squared Error\n",
    "error = mean_squared_error(y_test_3, y_pred_3)\n",
    "print(\"\\n** The Mean Squared Error is:\", error)\n",
    "\n",
    "# R2 Score\n",
    "# The closer to one, the better the model\n",
    "error = r2_score(y_test_3, y_pred_3)\n",
    "print(\"\\n** The R2 Score is:\", error)"
   ]
  },
  {
   "cell_type": "markdown",
   "metadata": {},
   "source": [
    "### Decision Tree Model"
   ]
  },
  {
   "cell_type": "code",
   "execution_count": 34,
   "metadata": {},
   "outputs": [
    {
     "name": "stdout",
     "output_type": "stream",
     "text": [
      "** Accuracy for the Decision Tree Model: 95.83333333333334%\n",
      "\n",
      "** The Mean Absolute Error is: 0.041666666666666664\n",
      "\n",
      "** The Mean Squared Error is: 0.041666666666666664\n",
      "\n",
      "** The R2 Score is: 0.8285714285714286\n"
     ]
    }
   ],
   "source": [
    "# TRAINING\n",
    "\n",
    "# Initiate classifier and feed the features and labels\n",
    "model_3 = DecisionTreeClassifier()\n",
    "model_3.fit(X_train_3, y_train_3)\n",
    "\n",
    "# TESTING\n",
    "\n",
    "# Make predictions on the Test Data\n",
    "y_pred_3 = model_3.predict(X_test_3)\n",
    "\n",
    "# EVALUATING\n",
    "\n",
    "# Calculate the accuracy on the Test Data\n",
    "acc = accuracy_score(y_test_3, y_pred_3)\n",
    "\n",
    "# Calculate the accuracy on the Test Data\n",
    "acc = accuracy_score(y_test_3, y_pred_3)\n",
    "print(\"** Accuracy for the Decision Tree Model: {}%\".format(acc*100))\n",
    "\n",
    "# Calculate some Regression Metrics to further evaluate Model\n",
    "\n",
    "# Mean Absolute Error\n",
    "error = mean_absolute_error(y_test_3, y_pred_3)\n",
    "print(\"\\n** The Mean Absolute Error is:\", error)\n",
    "\n",
    "# Mean Squared Error\n",
    "error = mean_squared_error(y_test_3, y_pred_3)\n",
    "print(\"\\n** The Mean Squared Error is:\", error)\n",
    "\n",
    "# R2 Score\n",
    "# The closer to one, the better the model\n",
    "error = r2_score(y_test_3, y_pred_3)\n",
    "print(\"\\n** The R2 Score is:\", error)"
   ]
  },
  {
   "cell_type": "markdown",
   "metadata": {},
   "source": [
    "### Support Vector Machines Model"
   ]
  },
  {
   "cell_type": "code",
   "execution_count": 35,
   "metadata": {},
   "outputs": [
    {
     "name": "stdout",
     "output_type": "stream",
     "text": [
      "** Accuracy for the Support Vector Machine Model: 58.333333333333336%\n",
      "\n",
      "** The Mean Absolute Error is: 0.4166666666666667\n",
      "\n",
      "** The Mean Squared Error is: 0.4166666666666667\n",
      "\n",
      "** The R2 Score is: -0.7142857142857142\n"
     ]
    }
   ],
   "source": [
    "# TRAINING\n",
    "\n",
    "# Initiate classifier and feed the features and labels\n",
    "# Try parameters in the SVC classifier\n",
    "# Try (kernel = 'rbf', gamma = 200) or (kernel = 'poly', gamma = 2) or None\n",
    "model_3 = SVC()\n",
    "model_3.fit(X_train_3, y_train_3)\n",
    "\n",
    "# TESTING\n",
    "\n",
    "# Make predictions on the Test Data\n",
    "y_pred_3 = model_3.predict(X_test_3)\n",
    "\n",
    "# EVALUATING\n",
    "\n",
    "# Calculate the accuracy on the Test Data\n",
    "acc = accuracy_score(y_test_3, y_pred_3)\n",
    "\n",
    "# Calculate the accuracy on the Test Data\n",
    "acc = accuracy_score(y_test_3, y_pred_3)\n",
    "print(\"** Accuracy for the Support Vector Machine Model: {}%\".format(acc*100))\n",
    "\n",
    "# Calculate some Regression Metrics to further evaluate Model\n",
    "\n",
    "# Mean Absolute Error\n",
    "error = mean_absolute_error(y_test_3, y_pred_3)\n",
    "print(\"\\n** The Mean Absolute Error is:\", error)\n",
    "\n",
    "# Mean Squared Error\n",
    "error = mean_squared_error(y_test_3, y_pred_3)\n",
    "print(\"\\n** The Mean Squared Error is:\", error)\n",
    "\n",
    "# R2 Score\n",
    "# The closer to one, the better the model\n",
    "error = r2_score(y_test_3, y_pred_3)\n",
    "print(\"\\n** The R2 Score is:\", error)"
   ]
  }
 ],
 "metadata": {
  "kernelspec": {
   "display_name": "Python 3",
   "language": "python",
   "name": "python3"
  },
  "language_info": {
   "codemirror_mode": {
    "name": "ipython",
    "version": 3
   },
   "file_extension": ".py",
   "mimetype": "text/x-python",
   "name": "python",
   "nbconvert_exporter": "python",
   "pygments_lexer": "ipython3",
   "version": "3.6.6"
  }
 },
 "nbformat": 4,
 "nbformat_minor": 2
}
